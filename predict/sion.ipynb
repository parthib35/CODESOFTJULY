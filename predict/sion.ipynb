import numpy as np
import pandas as pd
import matplotlib.pyplot as plt
import seaborn as sns
import warnings
%matplotlib inline
from sklearn.model_selection import train_test_split
from sklearn.tree import DecisionTreeClassifier
from sklearn.ensemble import RandomForestClassifier
from sklearn. metrics import confusion_matrix,completeness_score,classification_report
df1 = pd.read_csv('/content/drive/MyDrive/movies.dat', sep='::', encoding='latin-1',usecols=[0,1,2],
                 names=['moviesid','moviename','category'])
df2 = pd.read_csv('/content/drive/MyDrive/users.dat', sep='::', encoding='latin-1',usecols=[0,1,2,3,4],
                 names=['userid','gender','age','occupation','zip-code'])

df3 = pd.read_csv('/content/drive/MyDrive/ratings.dat', sep='::', encoding='latin-1',usecols=[0,1,2,3],
                 names=['id','movieid','ratings','timestamp'])
df3
df=pd.concat([df1,df2,df3],axis=1)
df.shape
df
df.info()
df.columns
df.dtypes
corrmat = df.corr(method = "spearman")
plt.figure(figsize=(15,10))
#plot heat map
g=sns.heatmap(corrmat,annot=True)
df.isnull().sum()
sns.countplot(data=df,x='ratings')
df.dropna(inplace=True)
df.shape
sns.countplot(data=df,x='ratings')
df.isnull().sum()
df.dtypes
from sklearn.preprocessing import LabelEncoder
le = LabelEncoder()
df["moviename"] = le.fit_transform(df["moviename"])
df["category"] = le.fit_transform(df["category"])
df["gender"] = le.fit_transform(df["gender"])
df["zip-code"] = le.fit_transform(df["zip-code"])
df.dtypes
corrmat = df.corr(method = "spearman")
plt.figure(figsize=(15,10))
#plot heat map
g=sns.heatmap(corrmat,annot=True)
X = df.drop(["ratings"], axis = 1)
y = df["ratings"]
x_train, x_test, y_train, y_test = train_test_split(X, y, test_size=0.2, random_state=11)
print(x_train.shape, y_train.shape)
print(x_test.shape, y_test.shape)
rf = RandomForestClassifier(n_estimators=200)
rf.fit(x_train,y_train)
pred1 = rf.predict(x_test)
cn = confusion_matrix(y_test, pred1)
ax = plt.subplot()
sns.heatmap(cn / np.sum(cn), annot = True, ax=ax)
plt.plot()
score = rf.score(x_test,pred1)
print('Acccuracy: ',score)
print(classification_report (y_test,pred1))
model = DecisionTreeClassifier(random_state=0)
model.fit(x_train, y_train)
pred = model.predict(x_test)
cn = confusion_matrix(y_test, pred)
ax = plt.subplot()
sns.heatmap(cn / np.sum(cn), annot = True, ax=ax)
plt.plot()
score = model.score(x_test,pred)
print('Acccuracy: ',score)
print(classification_report (y_test,pred))

